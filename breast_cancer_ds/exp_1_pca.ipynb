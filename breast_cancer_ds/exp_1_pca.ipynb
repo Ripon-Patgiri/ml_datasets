{
 "cells": [
  {
   "cell_type": "markdown",
   "id": "e9ae8914",
   "metadata": {},
   "source": [
    "## Import Required Libraries"
   ]
  },
  {
   "cell_type": "code",
   "execution_count": 6,
   "id": "ea35555a",
   "metadata": {},
   "outputs": [],
   "source": [
    "import pandas as pd\n",
    "import matplotlib.pyplot as plt\n",
    "from sklearn.preprocessing import StandardScaler\n",
    "from sklearn.decomposition import PCA"
   ]
  },
  {
   "cell_type": "markdown",
   "id": "db9328b7",
   "metadata": {},
   "source": [
    "## Load and Prepare Dataset"
   ]
  },
  {
   "cell_type": "code",
   "execution_count": 9,
   "id": "31ff9fa4",
   "metadata": {},
   "outputs": [
    {
     "name": "stdout",
     "output_type": "stream",
     "text": [
      "   mean radius  mean texture  mean perimeter  mean area  mean smoothness  \\\n",
      "0        17.99         10.38          122.80     1001.0          0.11840   \n",
      "1        20.57         17.77          132.90     1326.0          0.08474   \n",
      "2        19.69         21.25          130.00     1203.0          0.10960   \n",
      "3        11.42         20.38           77.58      386.1          0.14250   \n",
      "4        20.29         14.34          135.10     1297.0          0.10030   \n",
      "\n",
      "   mean compactness  mean concavity  mean concave points  mean symmetry  \\\n",
      "0           0.27760          0.3001              0.14710         0.2419   \n",
      "1           0.07864          0.0869              0.07017         0.1812   \n",
      "2           0.15990          0.1974              0.12790         0.2069   \n",
      "3           0.28390          0.2414              0.10520         0.2597   \n",
      "4           0.13280          0.1980              0.10430         0.1809   \n",
      "\n",
      "   mean fractal dimension  ...  worst radius  worst texture  worst perimeter  \\\n",
      "0                 0.07871  ...         25.38          17.33           184.60   \n",
      "1                 0.05667  ...         24.99          23.41           158.80   \n",
      "2                 0.05999  ...         23.57          25.53           152.50   \n",
      "3                 0.09744  ...         14.91          26.50            98.87   \n",
      "4                 0.05883  ...         22.54          16.67           152.20   \n",
      "\n",
      "   worst area  worst smoothness  worst compactness  worst concavity  \\\n",
      "0      2019.0            0.1622             0.6656           0.7119   \n",
      "1      1956.0            0.1238             0.1866           0.2416   \n",
      "2      1709.0            0.1444             0.4245           0.4504   \n",
      "3       567.7            0.2098             0.8663           0.6869   \n",
      "4      1575.0            0.1374             0.2050           0.4000   \n",
      "\n",
      "   worst concave points  worst symmetry  worst fractal dimension  \n",
      "0                0.2654          0.4601                  0.11890  \n",
      "1                0.1860          0.2750                  0.08902  \n",
      "2                0.2430          0.3613                  0.08758  \n",
      "3                0.2575          0.6638                  0.17300  \n",
      "4                0.1625          0.2364                  0.07678  \n",
      "\n",
      "[5 rows x 30 columns]\n",
      "(569, 30)\n"
     ]
    }
   ],
   "source": [
    "data = pd.read_csv(\"C:\\\\Users\\\\patgi\\\\OneDrive\\\\Desktop\\\\titanic[1]\\\\breast_cancer.csv\")\n",
    "print(data.head())\n",
    "print(data.shape)\n",
    "\n",
    "#Standardize the data\n",
    "X = data\n",
    "sc = StandardScaler()\n",
    "X_scaled = sc.fit_transform(X)"
   ]
  },
  {
   "cell_type": "markdown",
   "id": "13a469eb",
   "metadata": {},
   "source": [
    "## Apply PCA"
   ]
  },
  {
   "cell_type": "code",
   "execution_count": 10,
   "id": "9f333620",
   "metadata": {
    "scrolled": true
   },
   "outputs": [
    {
     "data": {
      "text/html": [
       "<style>#sk-container-id-1 {color: black;background-color: white;}#sk-container-id-1 pre{padding: 0;}#sk-container-id-1 div.sk-toggleable {background-color: white;}#sk-container-id-1 label.sk-toggleable__label {cursor: pointer;display: block;width: 100%;margin-bottom: 0;padding: 0.3em;box-sizing: border-box;text-align: center;}#sk-container-id-1 label.sk-toggleable__label-arrow:before {content: \"▸\";float: left;margin-right: 0.25em;color: #696969;}#sk-container-id-1 label.sk-toggleable__label-arrow:hover:before {color: black;}#sk-container-id-1 div.sk-estimator:hover label.sk-toggleable__label-arrow:before {color: black;}#sk-container-id-1 div.sk-toggleable__content {max-height: 0;max-width: 0;overflow: hidden;text-align: left;background-color: #f0f8ff;}#sk-container-id-1 div.sk-toggleable__content pre {margin: 0.2em;color: black;border-radius: 0.25em;background-color: #f0f8ff;}#sk-container-id-1 input.sk-toggleable__control:checked~div.sk-toggleable__content {max-height: 200px;max-width: 100%;overflow: auto;}#sk-container-id-1 input.sk-toggleable__control:checked~label.sk-toggleable__label-arrow:before {content: \"▾\";}#sk-container-id-1 div.sk-estimator input.sk-toggleable__control:checked~label.sk-toggleable__label {background-color: #d4ebff;}#sk-container-id-1 div.sk-label input.sk-toggleable__control:checked~label.sk-toggleable__label {background-color: #d4ebff;}#sk-container-id-1 input.sk-hidden--visually {border: 0;clip: rect(1px 1px 1px 1px);clip: rect(1px, 1px, 1px, 1px);height: 1px;margin: -1px;overflow: hidden;padding: 0;position: absolute;width: 1px;}#sk-container-id-1 div.sk-estimator {font-family: monospace;background-color: #f0f8ff;border: 1px dotted black;border-radius: 0.25em;box-sizing: border-box;margin-bottom: 0.5em;}#sk-container-id-1 div.sk-estimator:hover {background-color: #d4ebff;}#sk-container-id-1 div.sk-parallel-item::after {content: \"\";width: 100%;border-bottom: 1px solid gray;flex-grow: 1;}#sk-container-id-1 div.sk-label:hover label.sk-toggleable__label {background-color: #d4ebff;}#sk-container-id-1 div.sk-serial::before {content: \"\";position: absolute;border-left: 1px solid gray;box-sizing: border-box;top: 0;bottom: 0;left: 50%;z-index: 0;}#sk-container-id-1 div.sk-serial {display: flex;flex-direction: column;align-items: center;background-color: white;padding-right: 0.2em;padding-left: 0.2em;position: relative;}#sk-container-id-1 div.sk-item {position: relative;z-index: 1;}#sk-container-id-1 div.sk-parallel {display: flex;align-items: stretch;justify-content: center;background-color: white;position: relative;}#sk-container-id-1 div.sk-item::before, #sk-container-id-1 div.sk-parallel-item::before {content: \"\";position: absolute;border-left: 1px solid gray;box-sizing: border-box;top: 0;bottom: 0;left: 50%;z-index: -1;}#sk-container-id-1 div.sk-parallel-item {display: flex;flex-direction: column;z-index: 1;position: relative;background-color: white;}#sk-container-id-1 div.sk-parallel-item:first-child::after {align-self: flex-end;width: 50%;}#sk-container-id-1 div.sk-parallel-item:last-child::after {align-self: flex-start;width: 50%;}#sk-container-id-1 div.sk-parallel-item:only-child::after {width: 0;}#sk-container-id-1 div.sk-dashed-wrapped {border: 1px dashed gray;margin: 0 0.4em 0.5em 0.4em;box-sizing: border-box;padding-bottom: 0.4em;background-color: white;}#sk-container-id-1 div.sk-label label {font-family: monospace;font-weight: bold;display: inline-block;line-height: 1.2em;}#sk-container-id-1 div.sk-label-container {text-align: center;}#sk-container-id-1 div.sk-container {/* jupyter's `normalize.less` sets `[hidden] { display: none; }` but bootstrap.min.css set `[hidden] { display: none !important; }` so we also need the `!important` here to be able to override the default hidden behavior on the sphinx rendered scikit-learn.org. See: https://github.com/scikit-learn/scikit-learn/issues/21755 */display: inline-block !important;position: relative;}#sk-container-id-1 div.sk-text-repr-fallback {display: none;}</style><div id=\"sk-container-id-1\" class=\"sk-top-container\"><div class=\"sk-text-repr-fallback\"><pre>PCA(n_components=6)</pre><b>In a Jupyter environment, please rerun this cell to show the HTML representation or trust the notebook. <br />On GitHub, the HTML representation is unable to render, please try loading this page with nbviewer.org.</b></div><div class=\"sk-container\" hidden><div class=\"sk-item\"><div class=\"sk-estimator sk-toggleable\"><input class=\"sk-toggleable__control sk-hidden--visually\" id=\"sk-estimator-id-1\" type=\"checkbox\" checked><label for=\"sk-estimator-id-1\" class=\"sk-toggleable__label sk-toggleable__label-arrow\">PCA</label><div class=\"sk-toggleable__content\"><pre>PCA(n_components=6)</pre></div></div></div></div></div>"
      ],
      "text/plain": [
       "PCA(n_components=6)"
      ]
     },
     "execution_count": 10,
     "metadata": {},
     "output_type": "execute_result"
    }
   ],
   "source": [
    "pca = PCA(n_components=6)\n",
    "pca.fit(X_scaled)"
   ]
  },
  {
   "cell_type": "markdown",
   "id": "5899f1bd",
   "metadata": {},
   "source": [
    "## Display Eigen Values and Eigen Vectors"
   ]
  },
  {
   "cell_type": "code",
   "execution_count": 11,
   "id": "8a5d4c9c",
   "metadata": {},
   "outputs": [
    {
     "name": "stdout",
     "output_type": "stream",
     "text": [
      "Eigenvalues\n",
      "[13.30499079  5.7013746   2.82291016  1.98412752  1.65163324  1.20948224]\n",
      "\n",
      "Eigenvectors\n",
      "[[ 2.18902444e-01  1.03724578e-01  2.27537293e-01  2.20994985e-01\n",
      "   1.42589694e-01  2.39285354e-01  2.58400481e-01  2.60853758e-01\n",
      "   1.38166959e-01  6.43633464e-02  2.05978776e-01  1.74280281e-02\n",
      "   2.11325916e-01  2.02869635e-01  1.45314521e-02  1.70393451e-01\n",
      "   1.53589790e-01  1.83417397e-01  4.24984216e-02  1.02568322e-01\n",
      "   2.27996634e-01  1.04469325e-01  2.36639681e-01  2.24870533e-01\n",
      "   1.27952561e-01  2.10095880e-01  2.28767533e-01  2.50885971e-01\n",
      "   1.22904556e-01  1.31783943e-01]\n",
      " [-2.33857132e-01 -5.97060884e-02 -2.15181361e-01 -2.31076711e-01\n",
      "   1.86113023e-01  1.51891610e-01  6.01653629e-02 -3.47675004e-02\n",
      "   1.90348770e-01  3.66575471e-01 -1.05552152e-01  8.99796818e-02\n",
      "  -8.94572342e-02 -1.52292628e-01  2.04430453e-01  2.32715896e-01\n",
      "   1.97207283e-01  1.30321560e-01  1.83848000e-01  2.80092027e-01\n",
      "  -2.19866379e-01 -4.54672982e-02 -1.99878428e-01 -2.19351858e-01\n",
      "   1.72304352e-01  1.43593173e-01  9.79641142e-02 -8.25723498e-03\n",
      "   1.41883349e-01  2.75339468e-01]\n",
      " [-8.53124286e-03  6.45499027e-02 -9.31421956e-03  2.86995259e-02\n",
      "  -1.04291906e-01 -7.40915699e-02  2.73383870e-03 -2.55635400e-02\n",
      "  -4.02399362e-02 -2.25740897e-02  2.68481387e-01  3.74633665e-01\n",
      "   2.66645368e-01  2.16006529e-01  3.08838979e-01  1.54779718e-01\n",
      "   1.76463743e-01  2.24657567e-01  2.88584293e-01  2.11503765e-01\n",
      "  -4.75069906e-02 -4.22978220e-02 -4.85465086e-02 -1.19023190e-02\n",
      "  -2.59797611e-01 -2.36075626e-01 -1.73057336e-01 -1.70344075e-01\n",
      "  -2.71312642e-01 -2.32791314e-01]\n",
      " [ 4.14089700e-02 -6.03050000e-01  4.19831066e-02  5.34338025e-02\n",
      "   1.59382764e-01  3.17945823e-02  1.91227493e-02  6.53359366e-02\n",
      "   6.71249852e-02  4.85867677e-02  9.79412383e-02 -3.59855527e-01\n",
      "   8.89924172e-02  1.08205041e-01  4.46641795e-02 -2.74693669e-02\n",
      "   1.31688443e-03  7.40673396e-02  4.40733511e-02  1.53047439e-02\n",
      "   1.54172365e-02 -6.32807886e-01  1.38027921e-02  2.58947429e-02\n",
      "   1.76522188e-02 -9.13284140e-02 -7.39511810e-02  6.00699026e-03\n",
      "  -3.62506951e-02 -7.70534636e-02]\n",
      " [ 3.77863198e-02 -4.94688691e-02  3.73746334e-02  1.03312314e-02\n",
      "  -3.65088555e-01  1.17039769e-02  8.63754453e-02 -4.38609723e-02\n",
      "  -3.05941434e-01 -4.44243692e-02 -1.54456495e-01 -1.91650514e-01\n",
      "  -1.20990235e-01 -1.27574414e-01 -2.32065693e-01  2.79968193e-01\n",
      "   3.53982065e-01  1.95548060e-01 -2.52868764e-01  2.63297473e-01\n",
      "  -4.40659858e-03 -9.28833762e-02  7.45414397e-03 -2.73908888e-02\n",
      "  -3.24435419e-01  1.21804086e-01  1.88518710e-01  4.33321065e-02\n",
      "  -2.44558661e-01  9.44232991e-02]\n",
      " [ 1.87408023e-02 -3.21789162e-02  1.73084749e-02 -1.88769219e-03\n",
      "  -2.86374689e-01 -1.41308667e-02 -9.34410329e-03 -5.20498709e-02\n",
      "   3.56458464e-01 -1.19430649e-01 -2.56033291e-02 -2.87473329e-02\n",
      "   1.81072558e-03 -4.28637839e-02 -3.42917497e-01  6.91976145e-02\n",
      "   5.63432067e-02 -3.12244954e-02  4.90245653e-01 -5.31951991e-02\n",
      "  -2.90792853e-04 -5.00079624e-02  8.50090442e-03 -2.51644738e-02\n",
      "  -3.69255136e-01  4.77057182e-02  2.83791389e-02 -3.08733834e-02\n",
      "   4.98926778e-01 -8.02236603e-02]]\n"
     ]
    }
   ],
   "source": [
    "print(\"Eigenvalues\")\n",
    "print(pca.explained_variance_)\n",
    "print()\n",
    "print('Eigenvectors')\n",
    "print(pca.components_)"
   ]
  },
  {
   "cell_type": "markdown",
   "id": "a6704f91",
   "metadata": {},
   "source": [
    "## Create Dataframe with Transformed Data"
   ]
  },
  {
   "cell_type": "code",
   "execution_count": 12,
   "id": "7c5cd9e4",
   "metadata": {},
   "outputs": [
    {
     "data": {
      "text/html": [
       "<div>\n",
       "<style scoped>\n",
       "    .dataframe tbody tr th:only-of-type {\n",
       "        vertical-align: middle;\n",
       "    }\n",
       "\n",
       "    .dataframe tbody tr th {\n",
       "        vertical-align: top;\n",
       "    }\n",
       "\n",
       "    .dataframe thead th {\n",
       "        text-align: right;\n",
       "    }\n",
       "</style>\n",
       "<table border=\"1\" class=\"dataframe\">\n",
       "  <thead>\n",
       "    <tr style=\"text-align: right;\">\n",
       "      <th></th>\n",
       "      <th>PC1</th>\n",
       "      <th>PC2</th>\n",
       "      <th>PC3</th>\n",
       "      <th>PC4</th>\n",
       "      <th>PC5</th>\n",
       "      <th>PC6</th>\n",
       "    </tr>\n",
       "  </thead>\n",
       "  <tbody>\n",
       "    <tr>\n",
       "      <th>0</th>\n",
       "      <td>9.192837</td>\n",
       "      <td>1.948583</td>\n",
       "      <td>-1.123166</td>\n",
       "      <td>3.633731</td>\n",
       "      <td>-1.195110</td>\n",
       "      <td>1.411425</td>\n",
       "    </tr>\n",
       "    <tr>\n",
       "      <th>1</th>\n",
       "      <td>2.387802</td>\n",
       "      <td>-3.768172</td>\n",
       "      <td>-0.529293</td>\n",
       "      <td>1.118264</td>\n",
       "      <td>0.621775</td>\n",
       "      <td>0.028656</td>\n",
       "    </tr>\n",
       "    <tr>\n",
       "      <th>2</th>\n",
       "      <td>5.733896</td>\n",
       "      <td>-1.075174</td>\n",
       "      <td>-0.551748</td>\n",
       "      <td>0.912083</td>\n",
       "      <td>-0.177086</td>\n",
       "      <td>0.541452</td>\n",
       "    </tr>\n",
       "    <tr>\n",
       "      <th>3</th>\n",
       "      <td>7.122953</td>\n",
       "      <td>10.275589</td>\n",
       "      <td>-3.232790</td>\n",
       "      <td>0.152547</td>\n",
       "      <td>-2.960878</td>\n",
       "      <td>3.053422</td>\n",
       "    </tr>\n",
       "    <tr>\n",
       "      <th>4</th>\n",
       "      <td>3.935302</td>\n",
       "      <td>-1.948072</td>\n",
       "      <td>1.389767</td>\n",
       "      <td>2.940639</td>\n",
       "      <td>0.546747</td>\n",
       "      <td>-1.226495</td>\n",
       "    </tr>\n",
       "    <tr>\n",
       "      <th>...</th>\n",
       "      <td>...</td>\n",
       "      <td>...</td>\n",
       "      <td>...</td>\n",
       "      <td>...</td>\n",
       "      <td>...</td>\n",
       "      <td>...</td>\n",
       "    </tr>\n",
       "    <tr>\n",
       "      <th>564</th>\n",
       "      <td>6.439315</td>\n",
       "      <td>-3.576817</td>\n",
       "      <td>2.459487</td>\n",
       "      <td>1.177314</td>\n",
       "      <td>-0.074824</td>\n",
       "      <td>-2.375193</td>\n",
       "    </tr>\n",
       "    <tr>\n",
       "      <th>565</th>\n",
       "      <td>3.793382</td>\n",
       "      <td>-3.584048</td>\n",
       "      <td>2.088476</td>\n",
       "      <td>-2.506028</td>\n",
       "      <td>-0.510723</td>\n",
       "      <td>-0.246710</td>\n",
       "    </tr>\n",
       "    <tr>\n",
       "      <th>566</th>\n",
       "      <td>1.256179</td>\n",
       "      <td>-1.902297</td>\n",
       "      <td>0.562731</td>\n",
       "      <td>-2.089227</td>\n",
       "      <td>1.809991</td>\n",
       "      <td>-0.534447</td>\n",
       "    </tr>\n",
       "    <tr>\n",
       "      <th>567</th>\n",
       "      <td>10.374794</td>\n",
       "      <td>1.672010</td>\n",
       "      <td>-1.877029</td>\n",
       "      <td>-2.356031</td>\n",
       "      <td>-0.033742</td>\n",
       "      <td>0.567936</td>\n",
       "    </tr>\n",
       "    <tr>\n",
       "      <th>568</th>\n",
       "      <td>-5.475243</td>\n",
       "      <td>-0.670637</td>\n",
       "      <td>1.490443</td>\n",
       "      <td>-2.299157</td>\n",
       "      <td>-0.184703</td>\n",
       "      <td>1.617838</td>\n",
       "    </tr>\n",
       "  </tbody>\n",
       "</table>\n",
       "<p>569 rows × 6 columns</p>\n",
       "</div>"
      ],
      "text/plain": [
       "           PC1        PC2       PC3       PC4       PC5       PC6\n",
       "0     9.192837   1.948583 -1.123166  3.633731 -1.195110  1.411425\n",
       "1     2.387802  -3.768172 -0.529293  1.118264  0.621775  0.028656\n",
       "2     5.733896  -1.075174 -0.551748  0.912083 -0.177086  0.541452\n",
       "3     7.122953  10.275589 -3.232790  0.152547 -2.960878  3.053422\n",
       "4     3.935302  -1.948072  1.389767  2.940639  0.546747 -1.226495\n",
       "..         ...        ...       ...       ...       ...       ...\n",
       "564   6.439315  -3.576817  2.459487  1.177314 -0.074824 -2.375193\n",
       "565   3.793382  -3.584048  2.088476 -2.506028 -0.510723 -0.246710\n",
       "566   1.256179  -1.902297  0.562731 -2.089227  1.809991 -0.534447\n",
       "567  10.374794   1.672010 -1.877029 -2.356031 -0.033742  0.567936\n",
       "568  -5.475243  -0.670637  1.490443 -2.299157 -0.184703  1.617838\n",
       "\n",
       "[569 rows x 6 columns]"
      ]
     },
     "execution_count": 12,
     "metadata": {},
     "output_type": "execute_result"
    }
   ],
   "source": [
    "transformed_df = pd.DataFrame(pca.transform(X_scaled), columns=['PC1','PC2','PC3','PC4','PC5','PC6'])\n",
    "transformed_df.to_csv(\"breast_cancer_transformed.csv\", index=False)\n",
    "transformed_df"
   ]
  },
  {
   "cell_type": "markdown",
   "id": "c5f1fa2d",
   "metadata": {},
   "source": [
    "## Plot the Scree Plot"
   ]
  },
  {
   "cell_type": "code",
   "execution_count": 13,
   "id": "8c59e0c1",
   "metadata": {},
   "outputs": [
    {
     "data": {
      "image/png": "[encoded data removed]",
      "text/plain": [
       "<Figure size 640x480 with 1 Axes>"
      ]
     },
     "metadata": {},
     "output_type": "display_data"
    }
   ],
   "source": [
    "plt.style.use(\"ggplot\")\n",
    "plt.plot(pca.explained_variance_, marker='o')\n",
    "plt.xlabel(\"Eigen Number\")\n",
    "plt.ylabel(\"Eigen Size\")\n",
    "plt.title(\"Scree Plot\")\n",
    "plt.show()"
   ]
  },
  {
   "cell_type": "code",
   "execution_count": null,
   "id": "21bfd342",
   "metadata": {},
   "outputs": [],
   "source": []
  }
 ],
 "metadata": {
  "kernelspec": {
   "display_name": "Python 3 (ipykernel)",
   "language": "python",
   "name": "python3"
  },
  "language_info": {
   "codemirror_mode": {
    "name": "ipython",
    "version": 3
   },
   "file_extension": ".py",
   "mimetype": "text/x-python",
   "name": "python",
   "nbconvert_exporter": "python",
   "pygments_lexer": "ipython3",
   "version": "3.10.9"
  }
 },
 "nbformat": 4,
 "nbformat_minor": 5
}
