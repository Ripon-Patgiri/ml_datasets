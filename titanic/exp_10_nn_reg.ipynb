{
  "nbformat": 4,
  "nbformat_minor": 0,
  "metadata": {
    "colab": {
      "provenance": []
    },
    "kernelspec": {
      "name": "python3",
      "display_name": "Python 3"
    },
    "language_info": {
      "name": "python"
    }
  },
  "cells": [
    {
      "cell_type": "markdown",
      "source": [
        "## Import Necessary Libraries"
      ],
      "metadata": {
        "id": "tzkwyhgNOgA-"
      }
    },
    {
      "cell_type": "code",
      "execution_count": null,
      "metadata": {
        "id": "SmVy4tepIJrm"
      },
      "outputs": [],
      "source": [
        "import numpy as np\n",
        "import matplotlib.pyplot as plt\n",
        "import pandas as pd\n",
        "\n",
        "from sklearn.model_selection import train_test_split\n",
        "\n",
        "from keras.models import Sequential\n",
        "from keras.layers import Dense, Dropout\n",
        "from keras.activations import relu, tanh, sigmoid\n",
        "from keras.regularizers import l1, l2"
      ]
    },
    {
      "cell_type": "markdown",
      "source": [
        "## Load and Prepare Dataset"
      ],
      "metadata": {
        "id": "q7up2SxnOkA1"
      }
    },
    {
      "cell_type": "code",
      "source": [
        "df = pd.read_csv('titanic.csv')\n",
        "\n",
        "X = df.drop('Survived', axis=1)\n",
        "y = df['Survived']\n",
        "\n",
        "X_train, X_test, y_train, y_test = train_test_split(X, y, test_size=0.3)\n",
        "accuracies = {}"
      ],
      "metadata": {
        "id": "mPL1cIjMJ1JI"
      },
      "execution_count": null,
      "outputs": []
    },
    {
      "cell_type": "markdown",
      "source": [
        "## Model 1 : l1(0.01), dropout(0.25)"
      ],
      "metadata": {
        "id": "N47bx0PMOoBZ"
      }
    },
    {
      "cell_type": "code",
      "source": [
        "model = Sequential()\n",
        "model.add(Dense(20, activation='relu', input_dim = X_train.shape[1], kernel_regularizer= l1(0.01)))\n",
        "model.add(Dropout(0.25))\n",
        "model.add(Dense(20, activation='relu', input_dim = X_train.shape[1], kernel_regularizer = l1(0.01)))\n",
        "model.add(Dropout(0.25))\n",
        "model.add(Dense(1, activation='sigmoid'))\n",
        "model.compile(loss='binary_crossentropy', optimizer='adam', metrics=['accuracy'])\n",
        "model.fit(X_train, y_train, epochs=40, verbose=0)\n",
        "_, accuracy = model.evaluate(X_test, y_test, verbose=0)\n",
        "print(accuracy)\n",
        "accuracies['model1'] = accuracy"
      ],
      "metadata": {
        "colab": {
          "base_uri": "https://localhost:8080/"
        },
        "id": "Zv4QF4zTKFaz",
        "outputId": "43db10bf-141c-40b4-bfda-173e70b5789c"
      },
      "execution_count": null,
      "outputs": [
        {
          "output_type": "stream",
          "name": "stdout",
          "text": [
            "0.6268656849861145\n"
          ]
        }
      ]
    },
    {
      "cell_type": "markdown",
      "source": [
        "## Model 2 : l1(0.1), dropout(0.5)"
      ],
      "metadata": {
        "id": "ByQtKd--O8Ay"
      }
    },
    {
      "cell_type": "code",
      "source": [
        "model = Sequential()\n",
        "model.add(Dense(20, activation='relu', input_dim = X_train.shape[1], kernel_regularizer= l1(0.1)))\n",
        "model.add(Dropout(0.5))\n",
        "model.add(Dense(20, activation='relu', input_dim = X_train.shape[1], kernel_regularizer = l1(0.1)))\n",
        "model.add(Dropout(0.5))\n",
        "model.add(Dense(1, activation='sigmoid'))\n",
        "model.compile(loss='binary_crossentropy', optimizer='adam', metrics=['accuracy'])\n",
        "model.fit(X_train, y_train, epochs=40, verbose=0)\n",
        "_, accuracy = model.evaluate(X_test, y_test, verbose=0)\n",
        "print(accuracy)\n",
        "accuracies['model2'] = accuracy"
      ],
      "metadata": {
        "colab": {
          "base_uri": "https://localhost:8080/"
        },
        "id": "-qmMliA0LNeY",
        "outputId": "e259548d-3b0a-4a9a-a3de-6c98a4416a1d"
      },
      "execution_count": null,
      "outputs": [
        {
          "output_type": "stream",
          "name": "stdout",
          "text": [
            "0.6268656849861145\n"
          ]
        }
      ]
    },
    {
      "cell_type": "markdown",
      "source": [
        "## Model 3 : l2(0.01), dropout(0.25)"
      ],
      "metadata": {
        "id": "qfMc0K5BPAsF"
      }
    },
    {
      "cell_type": "code",
      "source": [
        "model = Sequential()\n",
        "model.add(Dense(20, activation='relu', input_dim = X_train.shape[1], kernel_regularizer= l2(0.01)))\n",
        "model.add(Dropout(0.25))\n",
        "model.add(Dense(20, activation='relu', input_dim = X_train.shape[1], kernel_regularizer = l2(0.01)))\n",
        "model.add(Dropout(0.25))\n",
        "model.add(Dense(1, activation='sigmoid'))\n",
        "model.compile(loss='binary_crossentropy', optimizer='adam', metrics=['accuracy'])\n",
        "model.fit(X_train, y_train, epochs=40, verbose=0)\n",
        "_, accuracy = model.evaluate(X_test, y_test, verbose=0)\n",
        "print(accuracy)\n",
        "accuracies['model3'] = accuracy"
      ],
      "metadata": {
        "colab": {
          "base_uri": "https://localhost:8080/"
        },
        "id": "3rj603MkM089",
        "outputId": "b87d15a1-43bf-4ed2-fb7a-7b4780b8fab2"
      },
      "execution_count": null,
      "outputs": [
        {
          "output_type": "stream",
          "name": "stdout",
          "text": [
            "0.6268656849861145\n"
          ]
        }
      ]
    },
    {
      "cell_type": "markdown",
      "source": [
        "## Model 4 : l2(0.1), dropout(0.5)"
      ],
      "metadata": {
        "id": "HRtGp56dPDr-"
      }
    },
    {
      "cell_type": "code",
      "source": [
        "model = Sequential()\n",
        "model.add(Dense(20, activation='relu', input_dim = X_train.shape[1], kernel_regularizer= l2(0.1)))\n",
        "model.add(Dropout(0.5))\n",
        "model.add(Dense(20, activation='relu', input_dim = X_train.shape[1], kernel_regularizer = l2(0.1)))\n",
        "model.add(Dropout(0.5))\n",
        "model.add(Dense(1, activation='sigmoid'))\n",
        "model.compile(loss='binary_crossentropy', optimizer='adam', metrics=['accuracy'])\n",
        "model.fit(X_train, y_train, epochs=40, verbose=0)\n",
        "_, accuracy = model.evaluate(X_test, y_test, verbose=0)\n",
        "print(accuracy)\n",
        "accuracies['model4'] = accuracy"
      ],
      "metadata": {
        "colab": {
          "base_uri": "https://localhost:8080/"
        },
        "id": "SmRdk88iM1_q",
        "outputId": "761b55b2-0ff6-4895-e6ad-419b6ddbca2c"
      },
      "execution_count": null,
      "outputs": [
        {
          "output_type": "stream",
          "name": "stdout",
          "text": [
            "0.6268656849861145\n"
          ]
        }
      ]
    },
    {
      "cell_type": "markdown",
      "source": [
        "## Plot Graph"
      ],
      "metadata": {
        "id": "0lr4E1YoPKMX"
      }
    },
    {
      "cell_type": "code",
      "source": [
        "plt.figure(figsize=(12,6))\n",
        "plt.bar(accuracies.keys(), accuracies.values())\n",
        "plt.xlabel('Models')\n",
        "plt.ylabel('Accuracy')\n",
        "plt.title('ANN')\n",
        "plt.show()"
      ],
      "metadata": {
        "colab": {
          "base_uri": "https://localhost:8080/",
          "height": 370
        },
        "id": "Jhb2BADSNWIf",
        "outputId": "e101dc25-8892-42f3-f5da-2c603428eea4"
      },
      "execution_count": null,
      "outputs": [
        {
          "output_type": "display_data",
          "data": {
            "text/plain": [
              "<Figure size 1200x600 with 1 Axes>"
            ],
            "image/png": "[encoded data removed]"
          },
          "metadata": {}
        }
      ]
    }
  ]
}