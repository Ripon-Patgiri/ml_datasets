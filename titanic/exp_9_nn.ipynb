{
  "nbformat": 4,
  "nbformat_minor": 0,
  "metadata": {
    "colab": {
      "provenance": []
    },
    "kernelspec": {
      "name": "python3",
      "display_name": "Python 3"
    },
    "language_info": {
      "name": "python"
    }
  },
  "cells": [
    {
      "cell_type": "markdown",
      "source": [
        "## Import Necessary Libraries"
      ],
      "metadata": {
        "id": "x1Kgk0JhFpGZ"
      }
    },
    {
      "cell_type": "code",
      "execution_count": null,
      "metadata": {
        "id": "I8tJnKjVDH9a"
      },
      "outputs": [],
      "source": [
        "import numpy as np\n",
        "import matplotlib.pyplot as plt\n",
        "import pandas as pd\n",
        "\n",
        "from sklearn.model_selection import train_test_split\n",
        "\n",
        "from keras.models import Sequential\n",
        "from keras.layers import Dense\n",
        "from keras.activations import relu, tanh, sigmoid"
      ]
    },
    {
      "cell_type": "markdown",
      "source": [
        "## Import and Prepare Data"
      ],
      "metadata": {
        "id": "zuGgpqgaFtD3"
      }
    },
    {
      "cell_type": "code",
      "source": [
        "df = pd.read_csv('titanic.csv')\n",
        "\n",
        "X = df.drop('Survived', axis=1)\n",
        "y = df['Survived']\n",
        "\n",
        "X_train, X_test, y_train, y_test = train_test_split(X, y, test_size=0.3)\n",
        "accuracies = {}"
      ],
      "metadata": {
        "id": "g5r4GKH2Djhy"
      },
      "execution_count": null,
      "outputs": []
    },
    {
      "cell_type": "markdown",
      "source": [
        "## Model 1 : 2 Hidden Layer, 5 Neurons/layer, relu activation"
      ],
      "metadata": {
        "id": "A7nCjupKFwck"
      }
    },
    {
      "cell_type": "code",
      "source": [
        "model = Sequential()\n",
        "model.add(Dense(5, activation='relu', input_dim = X_train.shape[1]))\n",
        "model.add(Dense(5, activation='relu', input_dim = X_train.shape[1]))\n",
        "model.add(Dense(1, activation='sigmoid'))\n",
        "model.compile(loss='binary_crossentropy', optimizer='adam', metrics=['accuracy'])\n",
        "model.fit(X_train, y_train, epochs=40, verbose=0)\n",
        "_, accuracy = model.evaluate(X_test, y_test, verbose=0)\n",
        "print(accuracy)\n",
        "accuracies['model1'] = accuracy"
      ],
      "metadata": {
        "colab": {
          "base_uri": "https://localhost:8080/"
        },
        "id": "IBkkK4JlDxas",
        "outputId": "256ee7a5-bdf0-441f-eaf7-92b8c53bc3e8"
      },
      "execution_count": null,
      "outputs": [
        {
          "output_type": "stream",
          "name": "stdout",
          "text": [
            "0.611940324306488\n"
          ]
        }
      ]
    },
    {
      "cell_type": "markdown",
      "source": [
        "## Model 2 : 2 hidden layer, 5 Neurons/layer, tanh activation"
      ],
      "metadata": {
        "id": "QjC7iAPoF5mr"
      }
    },
    {
      "cell_type": "code",
      "source": [
        "model = Sequential()\n",
        "model.add(Dense(5, activation='tanh', input_dim = X_train.shape[1]))\n",
        "model.add(Dense(5, activation='tanh', input_dim = X_train.shape[1]))\n",
        "model.add(Dense(1, activation='sigmoid'))\n",
        "model.compile(loss='binary_crossentropy', optimizer='adam', metrics=['accuracy'])\n",
        "model.fit(X_train, y_train, epochs=40, verbose=0)\n",
        "_, accuracy = model.evaluate(X_test, y_test, verbose=0)\n",
        "print(accuracy)\n",
        "accuracies['model2'] = accuracy"
      ],
      "metadata": {
        "colab": {
          "base_uri": "https://localhost:8080/"
        },
        "id": "z1gYj7P0Exir",
        "outputId": "0b77e9bd-10ec-4020-8358-da211d1e97a1"
      },
      "execution_count": null,
      "outputs": [
        {
          "output_type": "stream",
          "name": "stdout",
          "text": [
            "0.611940324306488\n"
          ]
        }
      ]
    },
    {
      "cell_type": "markdown",
      "source": [
        "## Model 3 : 2 hidden layer, 10 Neurons/layer, relu activation"
      ],
      "metadata": {
        "id": "j3AhUG8gGCYV"
      }
    },
    {
      "cell_type": "code",
      "source": [
        "model = Sequential()\n",
        "model.add(Dense(10, activation='relu', input_dim = X_train.shape[1]))\n",
        "model.add(Dense(10, activation='relu', input_dim = X_train.shape[1]))\n",
        "model.add(Dense(1, activation='sigmoid'))\n",
        "model.compile(loss='binary_crossentropy', optimizer='adam', metrics=['accuracy'])\n",
        "model.fit(X_train, y_train, epochs=40, verbose=0)\n",
        "_, accuracy = model.evaluate(X_test, y_test, verbose=0)\n",
        "print(accuracy)\n",
        "accuracies['model3'] = accuracy"
      ],
      "metadata": {
        "colab": {
          "base_uri": "https://localhost:8080/"
        },
        "id": "sfrZlqapE7sJ",
        "outputId": "b3f45b25-4a70-4ddf-9284-edf64e13c344"
      },
      "execution_count": null,
      "outputs": [
        {
          "output_type": "stream",
          "name": "stdout",
          "text": [
            "0.611940324306488\n"
          ]
        }
      ]
    },
    {
      "cell_type": "markdown",
      "source": [
        "## Model 4 : 2 hidden layer, 10 Neurons/layer, tanh activation"
      ],
      "metadata": {
        "id": "tNu8dWDMGLKT"
      }
    },
    {
      "cell_type": "code",
      "source": [
        "model = Sequential()\n",
        "model.add(Dense(10, activation='tanh', input_dim = X_train.shape[1]))\n",
        "model.add(Dense(10, activation='tanh', input_dim = X_train.shape[1]))\n",
        "model.add(Dense(1, activation='sigmoid'))\n",
        "model.compile(loss='binary_crossentropy', optimizer='adam', metrics=['accuracy'])\n",
        "model.fit(X_train, y_train, epochs=40, verbose=0)\n",
        "_, accuracy = model.evaluate(X_test, y_test, verbose=0)\n",
        "print(accuracy)\n",
        "accuracies['model4'] = accuracy"
      ],
      "metadata": {
        "colab": {
          "base_uri": "https://localhost:8080/"
        },
        "id": "-KV_ptVJFAl9",
        "outputId": "d4109895-2235-4b2b-8c2b-b6dd52842edb"
      },
      "execution_count": null,
      "outputs": [
        {
          "output_type": "stream",
          "name": "stdout",
          "text": [
            "0.611940324306488\n"
          ]
        }
      ]
    },
    {
      "cell_type": "markdown",
      "source": [
        "## Plot Graph"
      ],
      "metadata": {
        "id": "mqzIuy4gHG4a"
      }
    },
    {
      "cell_type": "code",
      "source": [
        "plt.figure(figsize=(12,6))\n",
        "plt.bar(accuracies.keys(), accuracies.values())\n",
        "plt.xlabel('Models')\n",
        "plt.ylabel('Accuracy')\n",
        "plt.title('ANN')\n",
        "plt.show()"
      ],
      "metadata": {
        "colab": {
          "base_uri": "https://localhost:8080/",
          "height": 370
        },
        "id": "oZW0mGc0FHH9",
        "outputId": "4c58970e-3e8b-4d33-c6ed-f7ee4b90b409"
      },
      "execution_count": null,
      "outputs": [
        {
          "output_type": "display_data",
          "data": {
            "text/plain": [
              "<Figure size 1200x600 with 1 Axes>"
            ],
            "image/png": "[encoded data removed]"
          },
          "metadata": {}
        }
      ]
    }
  ]
}